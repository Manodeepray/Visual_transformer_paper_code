{
 "cells": [
  {
   "cell_type": "code",
   "execution_count": 1,
   "metadata": {
    "_cell_guid": "b1076dfc-b9ad-4769-8c92-a6c4dae69d19",
    "_uuid": "8f2839f25d086af736a60e9eeb907d3b93b6e0e5",
    "execution": {
     "iopub.execute_input": "2024-07-24T18:31:23.322460Z",
     "iopub.status.busy": "2024-07-24T18:31:23.321650Z",
     "iopub.status.idle": "2024-07-24T18:31:24.342608Z",
     "shell.execute_reply": "2024-07-24T18:31:24.341633Z",
     "shell.execute_reply.started": "2024-07-24T18:31:23.322428Z"
    }
   },
   "outputs": [],
   "source": [
    "import pandas as pd\n",
    "import numpy as np\n",
    "import os \n",
    "import shutil"
   ]
  },
  {
   "cell_type": "code",
   "execution_count": 10,
   "metadata": {
    "execution": {
     "iopub.execute_input": "2024-07-24T18:32:17.776656Z",
     "iopub.status.busy": "2024-07-24T18:32:17.776016Z",
     "iopub.status.idle": "2024-07-24T18:32:18.611917Z",
     "shell.execute_reply": "2024-07-24T18:32:18.611008Z",
     "shell.execute_reply.started": "2024-07-24T18:32:17.776622Z"
    }
   },
   "outputs": [
    {
     "name": "stderr",
     "output_type": "stream",
     "text": [
      "/tmp/ipykernel_34/2198168844.py:1: DtypeWarning: Columns (9) have mixed types. Specify dtype option on import or set low_memory=False.\n",
      "  df = pd.read_csv(\"/kaggle/input/isic-2024-training-supplement-csv/ISIC_2024_Training_Supplement.csv\")\n"
     ]
    }
   ],
   "source": [
    "df = pd.read_csv(\"/kaggle/input/isic-2024-training-supplement-csv/ISIC_2024_Training_Supplement.csv\")"
   ]
  },
  {
   "cell_type": "code",
   "execution_count": 11,
   "metadata": {
    "execution": {
     "iopub.execute_input": "2024-07-24T18:32:19.804819Z",
     "iopub.status.busy": "2024-07-24T18:32:19.804468Z",
     "iopub.status.idle": "2024-07-24T18:32:19.820581Z",
     "shell.execute_reply": "2024-07-24T18:32:19.819606Z",
     "shell.execute_reply.started": "2024-07-24T18:32:19.804791Z"
    }
   },
   "outputs": [
    {
     "data": {
      "text/html": [
       "<div>\n",
       "<style scoped>\n",
       "    .dataframe tbody tr th:only-of-type {\n",
       "        vertical-align: middle;\n",
       "    }\n",
       "\n",
       "    .dataframe tbody tr th {\n",
       "        vertical-align: top;\n",
       "    }\n",
       "\n",
       "    .dataframe thead th {\n",
       "        text-align: right;\n",
       "    }\n",
       "</style>\n",
       "<table border=\"1\" class=\"dataframe\">\n",
       "  <thead>\n",
       "    <tr style=\"text-align: right;\">\n",
       "      <th></th>\n",
       "      <th>isic_id</th>\n",
       "      <th>attribution</th>\n",
       "      <th>copyright_license</th>\n",
       "      <th>lesion_id</th>\n",
       "      <th>iddx_full</th>\n",
       "      <th>iddx_1</th>\n",
       "      <th>iddx_2</th>\n",
       "      <th>iddx_3</th>\n",
       "      <th>iddx_4</th>\n",
       "      <th>iddx_5</th>\n",
       "      <th>mel_mitotic_index</th>\n",
       "      <th>mel_thick_mm</th>\n",
       "      <th>tbp_lv_dnn_lesion_confidence</th>\n",
       "    </tr>\n",
       "  </thead>\n",
       "  <tbody>\n",
       "    <tr>\n",
       "      <th>0</th>\n",
       "      <td>ISIC_0015670</td>\n",
       "      <td>Memorial Sloan Kettering Cancer Center</td>\n",
       "      <td>CC-BY</td>\n",
       "      <td>NaN</td>\n",
       "      <td>Benign</td>\n",
       "      <td>Benign</td>\n",
       "      <td>NaN</td>\n",
       "      <td>NaN</td>\n",
       "      <td>NaN</td>\n",
       "      <td>NaN</td>\n",
       "      <td>NaN</td>\n",
       "      <td>NaN</td>\n",
       "      <td>97.517282</td>\n",
       "    </tr>\n",
       "    <tr>\n",
       "      <th>1</th>\n",
       "      <td>ISIC_0015845</td>\n",
       "      <td>Memorial Sloan Kettering Cancer Center</td>\n",
       "      <td>CC-BY</td>\n",
       "      <td>IL_6727506</td>\n",
       "      <td>Benign</td>\n",
       "      <td>Benign</td>\n",
       "      <td>NaN</td>\n",
       "      <td>NaN</td>\n",
       "      <td>NaN</td>\n",
       "      <td>NaN</td>\n",
       "      <td>NaN</td>\n",
       "      <td>NaN</td>\n",
       "      <td>3.141455</td>\n",
       "    </tr>\n",
       "    <tr>\n",
       "      <th>2</th>\n",
       "      <td>ISIC_0015864</td>\n",
       "      <td>Memorial Sloan Kettering Cancer Center</td>\n",
       "      <td>CC-BY</td>\n",
       "      <td>NaN</td>\n",
       "      <td>Benign</td>\n",
       "      <td>Benign</td>\n",
       "      <td>NaN</td>\n",
       "      <td>NaN</td>\n",
       "      <td>NaN</td>\n",
       "      <td>NaN</td>\n",
       "      <td>NaN</td>\n",
       "      <td>NaN</td>\n",
       "      <td>99.804040</td>\n",
       "    </tr>\n",
       "    <tr>\n",
       "      <th>3</th>\n",
       "      <td>ISIC_0015902</td>\n",
       "      <td>ACEMID MIA</td>\n",
       "      <td>CC-0</td>\n",
       "      <td>NaN</td>\n",
       "      <td>Benign</td>\n",
       "      <td>Benign</td>\n",
       "      <td>NaN</td>\n",
       "      <td>NaN</td>\n",
       "      <td>NaN</td>\n",
       "      <td>NaN</td>\n",
       "      <td>NaN</td>\n",
       "      <td>NaN</td>\n",
       "      <td>99.989998</td>\n",
       "    </tr>\n",
       "    <tr>\n",
       "      <th>4</th>\n",
       "      <td>ISIC_0024200</td>\n",
       "      <td>Memorial Sloan Kettering Cancer Center</td>\n",
       "      <td>CC-BY</td>\n",
       "      <td>NaN</td>\n",
       "      <td>Benign</td>\n",
       "      <td>Benign</td>\n",
       "      <td>NaN</td>\n",
       "      <td>NaN</td>\n",
       "      <td>NaN</td>\n",
       "      <td>NaN</td>\n",
       "      <td>NaN</td>\n",
       "      <td>NaN</td>\n",
       "      <td>70.442510</td>\n",
       "    </tr>\n",
       "  </tbody>\n",
       "</table>\n",
       "</div>"
      ],
      "text/plain": [
       "        isic_id                             attribution copyright_license  \\\n",
       "0  ISIC_0015670  Memorial Sloan Kettering Cancer Center             CC-BY   \n",
       "1  ISIC_0015845  Memorial Sloan Kettering Cancer Center             CC-BY   \n",
       "2  ISIC_0015864  Memorial Sloan Kettering Cancer Center             CC-BY   \n",
       "3  ISIC_0015902                              ACEMID MIA              CC-0   \n",
       "4  ISIC_0024200  Memorial Sloan Kettering Cancer Center             CC-BY   \n",
       "\n",
       "    lesion_id iddx_full  iddx_1 iddx_2 iddx_3 iddx_4 iddx_5 mel_mitotic_index  \\\n",
       "0         NaN    Benign  Benign    NaN    NaN    NaN    NaN               NaN   \n",
       "1  IL_6727506    Benign  Benign    NaN    NaN    NaN    NaN               NaN   \n",
       "2         NaN    Benign  Benign    NaN    NaN    NaN    NaN               NaN   \n",
       "3         NaN    Benign  Benign    NaN    NaN    NaN    NaN               NaN   \n",
       "4         NaN    Benign  Benign    NaN    NaN    NaN    NaN               NaN   \n",
       "\n",
       "   mel_thick_mm  tbp_lv_dnn_lesion_confidence  \n",
       "0           NaN                     97.517282  \n",
       "1           NaN                      3.141455  \n",
       "2           NaN                     99.804040  \n",
       "3           NaN                     99.989998  \n",
       "4           NaN                     70.442510  "
      ]
     },
     "execution_count": 11,
     "metadata": {},
     "output_type": "execute_result"
    }
   ],
   "source": [
    "df.head()"
   ]
  },
  {
   "cell_type": "code",
   "execution_count": 12,
   "metadata": {
    "execution": {
     "iopub.execute_input": "2024-07-24T18:32:20.009159Z",
     "iopub.status.busy": "2024-07-24T18:32:20.008705Z",
     "iopub.status.idle": "2024-07-24T18:32:20.025106Z",
     "shell.execute_reply": "2024-07-24T18:32:20.024198Z",
     "shell.execute_reply.started": "2024-07-24T18:32:20.009115Z"
    }
   },
   "outputs": [],
   "source": [
    "data = df.drop(columns = ['attribution','copyright_license','lesion_id','iddx_full','iddx_2','iddx_3','iddx_4','iddx_5','mel_mitotic_index','mel_thick_mm'])"
   ]
  },
  {
   "cell_type": "code",
   "execution_count": 13,
   "metadata": {
    "execution": {
     "iopub.execute_input": "2024-07-24T18:32:21.400934Z",
     "iopub.status.busy": "2024-07-24T18:32:21.400589Z",
     "iopub.status.idle": "2024-07-24T18:32:21.417623Z",
     "shell.execute_reply": "2024-07-24T18:32:21.416712Z",
     "shell.execute_reply.started": "2024-07-24T18:32:21.400905Z"
    }
   },
   "outputs": [],
   "source": [
    "filtered_df = data[data['tbp_lv_dnn_lesion_confidence'] > 99]\n"
   ]
  },
  {
   "cell_type": "code",
   "execution_count": 14,
   "metadata": {
    "execution": {
     "iopub.execute_input": "2024-07-24T18:32:23.831192Z",
     "iopub.status.busy": "2024-07-24T18:32:23.830825Z",
     "iopub.status.idle": "2024-07-24T18:32:23.845226Z",
     "shell.execute_reply": "2024-07-24T18:32:23.843894Z",
     "shell.execute_reply.started": "2024-07-24T18:32:23.831155Z"
    }
   },
   "outputs": [
    {
     "data": {
      "text/html": [
       "<div>\n",
       "<style scoped>\n",
       "    .dataframe tbody tr th:only-of-type {\n",
       "        vertical-align: middle;\n",
       "    }\n",
       "\n",
       "    .dataframe tbody tr th {\n",
       "        vertical-align: top;\n",
       "    }\n",
       "\n",
       "    .dataframe thead th {\n",
       "        text-align: right;\n",
       "    }\n",
       "</style>\n",
       "<table border=\"1\" class=\"dataframe\">\n",
       "  <thead>\n",
       "    <tr style=\"text-align: right;\">\n",
       "      <th></th>\n",
       "      <th>isic_id</th>\n",
       "      <th>iddx_1</th>\n",
       "      <th>tbp_lv_dnn_lesion_confidence</th>\n",
       "    </tr>\n",
       "  </thead>\n",
       "  <tbody>\n",
       "    <tr>\n",
       "      <th>2</th>\n",
       "      <td>ISIC_0015864</td>\n",
       "      <td>Benign</td>\n",
       "      <td>99.804040</td>\n",
       "    </tr>\n",
       "    <tr>\n",
       "      <th>3</th>\n",
       "      <td>ISIC_0015902</td>\n",
       "      <td>Benign</td>\n",
       "      <td>99.989998</td>\n",
       "    </tr>\n",
       "    <tr>\n",
       "      <th>5</th>\n",
       "      <td>ISIC_0035502</td>\n",
       "      <td>Benign</td>\n",
       "      <td>99.619603</td>\n",
       "    </tr>\n",
       "    <tr>\n",
       "      <th>6</th>\n",
       "      <td>ISIC_0051648</td>\n",
       "      <td>Benign</td>\n",
       "      <td>99.918133</td>\n",
       "    </tr>\n",
       "    <tr>\n",
       "      <th>7</th>\n",
       "      <td>ISIC_0051665</td>\n",
       "      <td>Benign</td>\n",
       "      <td>99.972390</td>\n",
       "    </tr>\n",
       "  </tbody>\n",
       "</table>\n",
       "</div>"
      ],
      "text/plain": [
       "        isic_id  iddx_1  tbp_lv_dnn_lesion_confidence\n",
       "2  ISIC_0015864  Benign                     99.804040\n",
       "3  ISIC_0015902  Benign                     99.989998\n",
       "5  ISIC_0035502  Benign                     99.619603\n",
       "6  ISIC_0051648  Benign                     99.918133\n",
       "7  ISIC_0051665  Benign                     99.972390"
      ]
     },
     "execution_count": 14,
     "metadata": {},
     "output_type": "execute_result"
    }
   ],
   "source": [
    "filtered_df.head()"
   ]
  },
  {
   "cell_type": "code",
   "execution_count": 15,
   "metadata": {
    "execution": {
     "iopub.execute_input": "2024-07-24T18:32:25.321643Z",
     "iopub.status.busy": "2024-07-24T18:32:25.320967Z",
     "iopub.status.idle": "2024-07-24T18:32:25.344039Z",
     "shell.execute_reply": "2024-07-24T18:32:25.343082Z",
     "shell.execute_reply.started": "2024-07-24T18:32:25.321612Z"
    }
   },
   "outputs": [
    {
     "data": {
      "text/html": [
       "<div>\n",
       "<style scoped>\n",
       "    .dataframe tbody tr th:only-of-type {\n",
       "        vertical-align: middle;\n",
       "    }\n",
       "\n",
       "    .dataframe tbody tr th {\n",
       "        vertical-align: top;\n",
       "    }\n",
       "\n",
       "    .dataframe thead th {\n",
       "        text-align: right;\n",
       "    }\n",
       "</style>\n",
       "<table border=\"1\" class=\"dataframe\">\n",
       "  <thead>\n",
       "    <tr style=\"text-align: right;\">\n",
       "      <th></th>\n",
       "      <th>tbp_lv_dnn_lesion_confidence</th>\n",
       "    </tr>\n",
       "  </thead>\n",
       "  <tbody>\n",
       "    <tr>\n",
       "      <th>count</th>\n",
       "      <td>324584.000000</td>\n",
       "    </tr>\n",
       "    <tr>\n",
       "      <th>mean</th>\n",
       "      <td>99.931968</td>\n",
       "    </tr>\n",
       "    <tr>\n",
       "      <th>std</th>\n",
       "      <td>0.168167</td>\n",
       "    </tr>\n",
       "    <tr>\n",
       "      <th>min</th>\n",
       "      <td>99.000019</td>\n",
       "    </tr>\n",
       "    <tr>\n",
       "      <th>25%</th>\n",
       "      <td>99.969550</td>\n",
       "    </tr>\n",
       "    <tr>\n",
       "      <th>50%</th>\n",
       "      <td>99.998963</td>\n",
       "    </tr>\n",
       "    <tr>\n",
       "      <th>75%</th>\n",
       "      <td>99.999988</td>\n",
       "    </tr>\n",
       "    <tr>\n",
       "      <th>max</th>\n",
       "      <td>100.000000</td>\n",
       "    </tr>\n",
       "  </tbody>\n",
       "</table>\n",
       "</div>"
      ],
      "text/plain": [
       "       tbp_lv_dnn_lesion_confidence\n",
       "count                 324584.000000\n",
       "mean                      99.931968\n",
       "std                        0.168167\n",
       "min                       99.000019\n",
       "25%                       99.969550\n",
       "50%                       99.998963\n",
       "75%                       99.999988\n",
       "max                      100.000000"
      ]
     },
     "execution_count": 15,
     "metadata": {},
     "output_type": "execute_result"
    }
   ],
   "source": [
    "filtered_df.describe()"
   ]
  },
  {
   "cell_type": "code",
   "execution_count": 16,
   "metadata": {
    "execution": {
     "iopub.execute_input": "2024-07-24T18:32:26.371372Z",
     "iopub.status.busy": "2024-07-24T18:32:26.370818Z",
     "iopub.status.idle": "2024-07-24T18:32:26.428356Z",
     "shell.execute_reply": "2024-07-24T18:32:26.427433Z",
     "shell.execute_reply.started": "2024-07-24T18:32:26.371339Z"
    }
   },
   "outputs": [
    {
     "data": {
      "text/plain": [
       "iddx_1\n",
       "Benign           324275\n",
       "Malignant           223\n",
       "Indeterminate        86\n",
       "Name: count, dtype: int64"
      ]
     },
     "execution_count": 16,
     "metadata": {},
     "output_type": "execute_result"
    }
   ],
   "source": [
    "count = filtered_df['iddx_1'].value_counts()\n",
    "count"
   ]
  },
  {
   "cell_type": "code",
   "execution_count": 17,
   "metadata": {
    "execution": {
     "iopub.execute_input": "2024-07-24T18:32:28.753986Z",
     "iopub.status.busy": "2024-07-24T18:32:28.753116Z",
     "iopub.status.idle": "2024-07-24T18:32:28.828069Z",
     "shell.execute_reply": "2024-07-24T18:32:28.827206Z",
     "shell.execute_reply.started": "2024-07-24T18:32:28.753935Z"
    }
   },
   "outputs": [],
   "source": [
    "filtered_df_2 = filtered_df[filtered_df['iddx_1'] != \"Indeterminate\"]\n"
   ]
  },
  {
   "cell_type": "code",
   "execution_count": 18,
   "metadata": {
    "execution": {
     "iopub.execute_input": "2024-07-24T18:32:29.863421Z",
     "iopub.status.busy": "2024-07-24T18:32:29.863028Z",
     "iopub.status.idle": "2024-07-24T18:32:29.886149Z",
     "shell.execute_reply": "2024-07-24T18:32:29.885299Z",
     "shell.execute_reply.started": "2024-07-24T18:32:29.863392Z"
    }
   },
   "outputs": [
    {
     "data": {
      "text/html": [
       "<div>\n",
       "<style scoped>\n",
       "    .dataframe tbody tr th:only-of-type {\n",
       "        vertical-align: middle;\n",
       "    }\n",
       "\n",
       "    .dataframe tbody tr th {\n",
       "        vertical-align: top;\n",
       "    }\n",
       "\n",
       "    .dataframe thead th {\n",
       "        text-align: right;\n",
       "    }\n",
       "</style>\n",
       "<table border=\"1\" class=\"dataframe\">\n",
       "  <thead>\n",
       "    <tr style=\"text-align: right;\">\n",
       "      <th></th>\n",
       "      <th>tbp_lv_dnn_lesion_confidence</th>\n",
       "    </tr>\n",
       "  </thead>\n",
       "  <tbody>\n",
       "    <tr>\n",
       "      <th>count</th>\n",
       "      <td>324498.000000</td>\n",
       "    </tr>\n",
       "    <tr>\n",
       "      <th>mean</th>\n",
       "      <td>99.931969</td>\n",
       "    </tr>\n",
       "    <tr>\n",
       "      <th>std</th>\n",
       "      <td>0.168164</td>\n",
       "    </tr>\n",
       "    <tr>\n",
       "      <th>min</th>\n",
       "      <td>99.000019</td>\n",
       "    </tr>\n",
       "    <tr>\n",
       "      <th>25%</th>\n",
       "      <td>99.969550</td>\n",
       "    </tr>\n",
       "    <tr>\n",
       "      <th>50%</th>\n",
       "      <td>99.998963</td>\n",
       "    </tr>\n",
       "    <tr>\n",
       "      <th>75%</th>\n",
       "      <td>99.999988</td>\n",
       "    </tr>\n",
       "    <tr>\n",
       "      <th>max</th>\n",
       "      <td>100.000000</td>\n",
       "    </tr>\n",
       "  </tbody>\n",
       "</table>\n",
       "</div>"
      ],
      "text/plain": [
       "       tbp_lv_dnn_lesion_confidence\n",
       "count                 324498.000000\n",
       "mean                      99.931969\n",
       "std                        0.168164\n",
       "min                       99.000019\n",
       "25%                       99.969550\n",
       "50%                       99.998963\n",
       "75%                       99.999988\n",
       "max                      100.000000"
      ]
     },
     "execution_count": 18,
     "metadata": {},
     "output_type": "execute_result"
    }
   ],
   "source": [
    "filtered_df_2.describe()"
   ]
  },
  {
   "cell_type": "code",
   "execution_count": 19,
   "metadata": {
    "execution": {
     "iopub.execute_input": "2024-07-24T18:32:30.754894Z",
     "iopub.status.busy": "2024-07-24T18:32:30.754557Z",
     "iopub.status.idle": "2024-07-24T18:32:30.810836Z",
     "shell.execute_reply": "2024-07-24T18:32:30.809763Z",
     "shell.execute_reply.started": "2024-07-24T18:32:30.754868Z"
    }
   },
   "outputs": [
    {
     "data": {
      "text/plain": [
       "iddx_1\n",
       "Benign       324275\n",
       "Malignant       223\n",
       "Name: count, dtype: int64"
      ]
     },
     "execution_count": 19,
     "metadata": {},
     "output_type": "execute_result"
    }
   ],
   "source": [
    "count = filtered_df_2['iddx_1'].value_counts()\n",
    "count"
   ]
  },
  {
   "cell_type": "code",
   "execution_count": 20,
   "metadata": {
    "execution": {
     "iopub.execute_input": "2024-07-24T18:32:31.545750Z",
     "iopub.status.busy": "2024-07-24T18:32:31.545405Z",
     "iopub.status.idle": "2024-07-24T18:32:31.549911Z",
     "shell.execute_reply": "2024-07-24T18:32:31.548918Z",
     "shell.execute_reply.started": "2024-07-24T18:32:31.545722Z"
    }
   },
   "outputs": [],
   "source": [
    "image_dir_path = \"/kaggle/input/isic-2024-challenge/train-image/image\"\n",
    "\n"
   ]
  },
  {
   "cell_type": "code",
   "execution_count": 21,
   "metadata": {
    "execution": {
     "iopub.execute_input": "2024-07-24T18:32:32.900554Z",
     "iopub.status.busy": "2024-07-24T18:32:32.899729Z",
     "iopub.status.idle": "2024-07-24T18:32:32.906114Z",
     "shell.execute_reply": "2024-07-24T18:32:32.905202Z",
     "shell.execute_reply.started": "2024-07-24T18:32:32.900523Z"
    }
   },
   "outputs": [],
   "source": [
    "image_paths = []\n",
    "split_dataset = '/kaggle/working/dataset'\n",
    "images_dir = image_dir_path\n",
    "\n",
    "list_dirs = [\"Benign\",\"Malignant\"]\n",
    "\n",
    "os.makedirs(split_dataset , exist_ok =True)\n",
    "x = filtered_df_2.iloc[:,0].values\n",
    "y = filtered_df_2.iloc[:,1].values"
   ]
  },
  {
   "cell_type": "code",
   "execution_count": 22,
   "metadata": {
    "execution": {
     "iopub.execute_input": "2024-07-24T18:32:34.618376Z",
     "iopub.status.busy": "2024-07-24T18:32:34.617585Z",
     "iopub.status.idle": "2024-07-24T18:32:34.624318Z",
     "shell.execute_reply": "2024-07-24T18:32:34.623393Z",
     "shell.execute_reply.started": "2024-07-24T18:32:34.618346Z"
    }
   },
   "outputs": [
    {
     "data": {
      "text/plain": [
       "(array(['ISIC_0015864', 'ISIC_0015902', 'ISIC_0035502', ...,\n",
       "        'ISIC_9999960', 'ISIC_9999964', 'ISIC_9999967'], dtype=object),\n",
       " array(['Benign', 'Benign', 'Benign', ..., 'Benign', 'Benign', 'Benign'],\n",
       "       dtype=object))"
      ]
     },
     "execution_count": 22,
     "metadata": {},
     "output_type": "execute_result"
    }
   ],
   "source": [
    "x,y"
   ]
  },
  {
   "cell_type": "code",
   "execution_count": 23,
   "metadata": {
    "execution": {
     "iopub.execute_input": "2024-07-24T18:32:35.922221Z",
     "iopub.status.busy": "2024-07-24T18:32:35.921895Z",
     "iopub.status.idle": "2024-07-24T18:51:41.100115Z",
     "shell.execute_reply": "2024-07-24T18:51:41.099032Z",
     "shell.execute_reply.started": "2024-07-24T18:32:35.922196Z"
    }
   },
   "outputs": [
    {
     "name": "stdout",
     "output_type": "stream",
     "text": [
      "Benign\n",
      "Malignant\n"
     ]
    }
   ],
   "source": [
    "\n",
    "\n",
    "\n",
    "for item in list_dirs:\n",
    "    print(item)\n",
    "    os.makedirs(os.path.join(split_dataset,str(item)) , exist_ok = True)\n",
    "\n",
    "\n",
    "\n",
    "\n",
    "\n",
    "\n",
    "\n",
    "for i in range(len(filtered_df_2)):\n",
    "    image_path = os.path.join(images_dir,str(x[i])+\".jpg\")\n",
    "    if str(y[i]) == \"Benign\" :\n",
    "        new_path = os.path.join(split_dataset,\"Benign\",str(x[i])+\".jpg\")\n",
    "        shutil.copyfile(image_path, new_path)\n",
    "        \n",
    "        \n",
    "    if str(y[i]) == \"Malignant\" :\n",
    "        new_path = os.path.join(split_dataset,\"Malignant\",str(x[i])+\".jpg\")\n",
    "        shutil.copyfile(image_path, new_path)\n",
    "        \n"
   ]
  },
  {
   "cell_type": "code",
   "execution_count": 24,
   "metadata": {
    "execution": {
     "iopub.execute_input": "2024-07-24T19:01:22.811602Z",
     "iopub.status.busy": "2024-07-24T19:01:22.810964Z",
     "iopub.status.idle": "2024-07-24T19:02:01.572593Z",
     "shell.execute_reply": "2024-07-24T19:02:01.571818Z",
     "shell.execute_reply.started": "2024-07-24T19:01:22.811569Z"
    }
   },
   "outputs": [],
   "source": [
    "from shutil import copyfile\n",
    "def dir_split(data_dir,new_dataset_dir):\n",
    "    os.makedirs(new_dataset_dir , exist_ok =True)\n",
    "\n",
    "\n",
    "    train_dir = os.path.join(new_dataset_dir, 'train')\n",
    "    test_dir = os.path.join(new_dataset_dir , 'test')\n",
    "    val_dir = os.path.join(new_dataset_dir, 'val')\n",
    "\n",
    "\n",
    "    if not os.path.exists(train_dir):\n",
    "        os.makedirs(train_dir)\n",
    "\n",
    "    if not os.path.exists(test_dir):\n",
    "        os.makedirs(test_dir)\n",
    "\n",
    "    if not os.path.exists(val_dir):\n",
    "        os.makedirs(val_dir)\n",
    "\n",
    "    for class_name in os.listdir(data_dir):\n",
    "        class_path = os.path.join(data_dir, class_name)\n",
    "        dir_size = len(os.listdir(class_path))\n",
    "\n",
    "        train_class_dir = os.path.join(train_dir, class_name)\n",
    "        test_class_dir = os.path.join(test_dir, class_name)    \n",
    "        val_class_dir = os.path.join(val_dir, class_name)    \n",
    "\n",
    "\n",
    "        if not os.path.exists(train_class_dir):\n",
    "            os.makedirs(train_class_dir)\n",
    "        if not os.path.exists(test_class_dir):\n",
    "            os.makedirs(test_class_dir)\n",
    "        if not os.path.exists(val_class_dir):\n",
    "            os.makedirs(val_class_dir)\n",
    "\n",
    "        images = os.listdir(class_path)\n",
    "\n",
    "        train_size = int(len(images)*0.6)\n",
    "        test_size = int(len(images)*0.8)\n",
    "        val_size = int(len(images))\n",
    "\n",
    "        for i in range(train_size):\n",
    "            copyfile(os.path.join(class_path, images[i]), os.path.join(train_class_dir, images[i]))\n",
    "\n",
    "        for i in range(train_size,test_size):\n",
    "            copyfile(os.path.join(class_path, images[i]), os.path.join(test_class_dir, images[i]))\n",
    "\n",
    "        for i in range(test_size,val_size):\n",
    "            copyfile(os.path.join(class_path, images[i]), os.path.join(val_class_dir, images[i]))\n",
    "\n",
    "\n",
    "\n",
    "\n",
    "\n",
    "    return train_dir , test_dir , val_dir\n",
    "\n",
    "split_dataset = '/kaggle/working/test_train_dataset'\n",
    "\n",
    "dataset = '/kaggle/working/dataset'\n",
    "train_dir , test_dir , val_dir = dir_split(dataset , split_dataset)"
   ]
  },
  {
   "cell_type": "code",
   "execution_count": 25,
   "metadata": {
    "execution": {
     "iopub.execute_input": "2024-07-24T19:02:11.655581Z",
     "iopub.status.busy": "2024-07-24T19:02:11.655231Z",
     "iopub.status.idle": "2024-07-24T19:02:30.855828Z",
     "shell.execute_reply": "2024-07-24T19:02:30.855025Z",
     "shell.execute_reply.started": "2024-07-24T19:02:11.655553Z"
    }
   },
   "outputs": [],
   "source": [
    "def remove_all():\n",
    "    def remove_all_files(directory):\n",
    "        for filename in os.listdir(directory):\n",
    "            file_path = os.path.join(directory, filename)\n",
    "            try:\n",
    "                if os.path.isfile(file_path):\n",
    "                    os.remove(file_path)\n",
    "\n",
    "            except Exception as e:\n",
    "                print(f\"Error while deleting file {file_path}: {e}\")\n",
    "        os.rmdir(directory)\n",
    "\n",
    "    remove_all_files('/kaggle/working/dataset/Malignant')\n",
    "    remove_all_files('/kaggle/working/dataset/Benign')\n",
    "    remove_all_files('/kaggle/working/dataset')\n",
    "\n",
    "\n",
    "\n",
    "\n",
    "remove_all()\n",
    "\n"
   ]
  },
  {
   "cell_type": "markdown",
   "metadata": {},
   "source": [
    "# vit\n"
   ]
  },
  {
   "cell_type": "code",
   "execution_count": 26,
   "metadata": {
    "execution": {
     "iopub.execute_input": "2024-07-24T19:30:53.017839Z",
     "iopub.status.busy": "2024-07-24T19:30:53.017477Z",
     "iopub.status.idle": "2024-07-24T19:31:04.922478Z",
     "shell.execute_reply": "2024-07-24T19:31:04.921505Z",
     "shell.execute_reply.started": "2024-07-24T19:30:53.017811Z"
    }
   },
   "outputs": [
    {
     "name": "stderr",
     "output_type": "stream",
     "text": [
      "2024-07-24 19:30:54.805520: E external/local_xla/xla/stream_executor/cuda/cuda_dnn.cc:9261] Unable to register cuDNN factory: Attempting to register factory for plugin cuDNN when one has already been registered\n",
      "2024-07-24 19:30:54.805642: E external/local_xla/xla/stream_executor/cuda/cuda_fft.cc:607] Unable to register cuFFT factory: Attempting to register factory for plugin cuFFT when one has already been registered\n",
      "2024-07-24 19:30:54.941452: E external/local_xla/xla/stream_executor/cuda/cuda_blas.cc:1515] Unable to register cuBLAS factory: Attempting to register factory for plugin cuBLAS when one has already been registered\n"
     ]
    }
   ],
   "source": [
    "import os\n",
    "import pandas as pd\n",
    "import numpy as np\n",
    "import shutil\n",
    "from shutil import copyfile\n",
    "from tensorflow.keras.layers import (GlobalAveragePooling2D, Activation, MaxPooling2D, Add, Conv2D, MaxPool2D, Dense,\n",
    "                                     Flatten, InputLayer, BatchNormalization, Input, Embedding, Permute,\n",
    "                                     Dropout, RandomFlip, RandomRotation, LayerNormalization, MultiHeadAttention,\n",
    "                                     RandomContrast, Rescaling, Resizing, Reshape,Dropout)\n",
    "from tensorflow.keras.models import Model\n",
    "from tensorflow.keras.layers import Layer\n",
    "import tensorflow as tf\n"
   ]
  },
  {
   "cell_type": "code",
   "execution_count": 27,
   "metadata": {
    "execution": {
     "iopub.execute_input": "2024-07-24T19:31:04.925380Z",
     "iopub.status.busy": "2024-07-24T19:31:04.924422Z",
     "iopub.status.idle": "2024-07-24T19:31:04.931018Z",
     "shell.execute_reply": "2024-07-24T19:31:04.930011Z",
     "shell.execute_reply.started": "2024-07-24T19:31:04.925344Z"
    }
   },
   "outputs": [],
   "source": [
    "#config\n",
    "\n",
    "CONFIGURATION = {\n",
    "    \"BATCH_SIZE\": 32,\n",
    "    \"IM_SIZE\": 121,\n",
    "    \"LEARNING_RATE\": 1e-3,\n",
    "    \"N_EPOCHS\": 20,\n",
    "    \"DROPOUT_RATE\": 0.0,\n",
    "    \"REGULARIZATION_RATE\": 0.0,\n",
    "    \"N_FILTERS\": 6,\n",
    "    \"KERNEL_SIZE\": 3,\n",
    "    \"N_STRIDES\": 1,\n",
    "    \"POOL_SIZE\": 2,\n",
    "    \"N_DENSE_1\": 1024,\n",
    "    \"N_DENSE_2\": 128,\n",
    "    \"NUM_CLASSES\": 2,\n",
    "    \"PATCH_SIZE\": 11,\n",
    "    \"PROJ_DIM\": 363,\n",
    "    \"CLASS_NAMES\": ['Benign','Malignant'],\n",
    "}\n"
   ]
  },
  {
   "cell_type": "code",
   "execution_count": 28,
   "metadata": {
    "execution": {
     "iopub.execute_input": "2024-07-24T19:31:04.932742Z",
     "iopub.status.busy": "2024-07-24T19:31:04.932370Z",
     "iopub.status.idle": "2024-07-24T19:31:04.958608Z",
     "shell.execute_reply": "2024-07-24T19:31:04.957851Z",
     "shell.execute_reply.started": "2024-07-24T19:31:04.932712Z"
    }
   },
   "outputs": [],
   "source": [
    "\n",
    "class PatchEncoder(Layer):\n",
    "    def __init__(self, N_PATCHES, HIDDEN_SIZE):\n",
    "        super(PatchEncoder, self).__init__(name='patch_encoder')\n",
    "        self.linear_projection = Dense(HIDDEN_SIZE)\n",
    "        self.positional_embedding = Embedding(N_PATCHES, HIDDEN_SIZE)\n",
    "        self.N_PATCHES = N_PATCHES\n",
    "\n",
    "    def call(self, x):\n",
    "        # Resize input images to (256, 256, 3)\n",
    "        x = tf.image.resize(x, [121, 121])\n",
    "        #x = tf.image.resize(x, [CONFIGURATION[\"IM_SIZE\"], CONFIGURATION[\"IM_SIZE\"]])\n",
    "        \n",
    "        patches = tf.image.extract_patches(\n",
    "            images=x,\n",
    "            sizes=[1, CONFIGURATION[\"PATCH_SIZE\"], CONFIGURATION[\"PATCH_SIZE\"], 1],\n",
    "            strides=[1, CONFIGURATION[\"PATCH_SIZE\"], CONFIGURATION[\"PATCH_SIZE\"], 1],\n",
    "            rates=[1, 1, 1, 1],\n",
    "            padding='VALID')\n",
    "\n",
    "        patch_dim = patches.shape[-1]\n",
    "        patches = tf.reshape(patches, (tf.shape(x)[0], -1, patch_dim))\n",
    "\n",
    "        embedding_input = tf.range(start=0, limit=self.N_PATCHES, delta=1)\n",
    "        output = self.linear_projection(patches) + self.positional_embedding(embedding_input)\n",
    "\n",
    "        return output\n",
    "    \n",
    "    \n",
    "    \n",
    "    \n",
    "\n",
    "\n",
    "class TransformerEncoder(Layer):\n",
    "    def __init__(self, N_HEADS, HIDDEN_SIZE):\n",
    "        super(TransformerEncoder, self).__init__(name='transformer_encoder')\n",
    "        self.layer_norm_1 = LayerNormalization()\n",
    "        self.layer_norm_2 = LayerNormalization()\n",
    "        self.dropout_1 = Dropout( rate = 0.2 )\n",
    "\n",
    "        self.dropout_2 = Dropout(rate = 0.2)\n",
    "\n",
    "        self.multi_head_att = MultiHeadAttention(num_heads=N_HEADS, key_dim=HIDDEN_SIZE)\n",
    "        self.dense_1 = Dense(HIDDEN_SIZE, activation=tf.nn.gelu)\n",
    "        self.dense_2 = Dense(HIDDEN_SIZE, activation=tf.nn.gelu)\n",
    "\n",
    "    def call(self, inputs):\n",
    "        x_1 = self.layer_norm_1(inputs)\n",
    "        x_1 = self.dropout_1(x_1)\n",
    "        x_1 = self.multi_head_att(x_1, x_1)\n",
    "        x_1 = Add()([x_1, inputs])\n",
    "        x_2 = self.layer_norm_2(x_1)\n",
    "        x_2 = self.dropout_2(x_2)\n",
    "        x_2 = self.dense_1(x_2)\n",
    "        output = self.dense_2(x_2)\n",
    "        output = Add()([output, x_1])\n",
    "        return output\n",
    "\n",
    "class ViT(Model):\n",
    "    def __init__(self, N_HEADS, HIDDEN_SIZE, N_PATCHES, N_LAYERS, N_DENSE_UNITS):\n",
    "        super(ViT, self).__init__(name='vision_transformer')\n",
    "        self.N_LAYERS = N_LAYERS\n",
    "        self.patch_encoder = PatchEncoder(N_PATCHES, HIDDEN_SIZE)\n",
    "        self.trans_encoders = [TransformerEncoder(N_HEADS, HIDDEN_SIZE) for _ in range(N_LAYERS)]\n",
    "        self.layer_norm_1 = LayerNormalization()\n",
    "        self.dropout_1 = Dropout( rate = 0.2 )\n",
    "        self.dropout_2 = Dropout(rate = 0.2)\n",
    "        self.dense_1 = Dense(N_DENSE_UNITS, activation=tf.nn.gelu)\n",
    "        self.dense_2 = Dense(N_DENSE_UNITS, activation=tf.nn.gelu)\n",
    "        \n",
    "        self.dense_3 = Dense(CONFIGURATION[\"NUM_CLASSES\"], activation='softmax')\n",
    "\n",
    "    def call(self, inputs, training=None):\n",
    "        x = self.patch_encoder(inputs)\n",
    "        for i in range(self.N_LAYERS):\n",
    "            x = self.trans_encoders[i](x)\n",
    "        x = Flatten()(x)\n",
    "        x = self.layer_norm_1(x)\n",
    "        x = self.dense_1(x)\n",
    "        x = self.dropout_1(x)\n",
    "        x = self.dense_2(x)\n",
    "        x = self.dropout_2(x)\n",
    "        return self.dense_3(x)\n"
   ]
  },
  {
   "cell_type": "code",
   "execution_count": 29,
   "metadata": {
    "execution": {
     "iopub.execute_input": "2024-07-24T19:31:04.961811Z",
     "iopub.status.busy": "2024-07-24T19:31:04.961098Z",
     "iopub.status.idle": "2024-07-24T19:31:04.990939Z",
     "shell.execute_reply": "2024-07-24T19:31:04.990197Z",
     "shell.execute_reply.started": "2024-07-24T19:31:04.961776Z"
    }
   },
   "outputs": [],
   "source": [
    "vit = ViT(\n",
    "    N_HEADS = 4, HIDDEN_SIZE = 363, N_PATCHES = 121,\n",
    "    N_LAYERS = 8, N_DENSE_UNITS = 128)\n"
   ]
  },
  {
   "cell_type": "code",
   "execution_count": 30,
   "metadata": {
    "execution": {
     "iopub.execute_input": "2024-07-24T19:31:04.992231Z",
     "iopub.status.busy": "2024-07-24T19:31:04.991988Z",
     "iopub.status.idle": "2024-07-24T19:31:08.428659Z",
     "shell.execute_reply": "2024-07-24T19:31:08.427659Z",
     "shell.execute_reply.started": "2024-07-24T19:31:04.992210Z"
    }
   },
   "outputs": [
    {
     "data": {
      "text/plain": [
       "<tf.Tensor: shape=(32, 2), dtype=float32, numpy=\n",
       "array([[0.44002995, 0.5599701 ],\n",
       "       [0.44002995, 0.5599701 ],\n",
       "       [0.44002995, 0.5599701 ],\n",
       "       [0.44002995, 0.5599701 ],\n",
       "       [0.44002995, 0.5599701 ],\n",
       "       [0.44002995, 0.5599701 ],\n",
       "       [0.44002995, 0.5599701 ],\n",
       "       [0.44002995, 0.5599701 ],\n",
       "       [0.44002995, 0.5599701 ],\n",
       "       [0.44002995, 0.5599701 ],\n",
       "       [0.44002995, 0.5599701 ],\n",
       "       [0.44002995, 0.5599701 ],\n",
       "       [0.44002995, 0.5599701 ],\n",
       "       [0.44002995, 0.5599701 ],\n",
       "       [0.44002995, 0.5599701 ],\n",
       "       [0.44002995, 0.5599701 ],\n",
       "       [0.44002995, 0.5599701 ],\n",
       "       [0.44002995, 0.5599701 ],\n",
       "       [0.44002995, 0.5599701 ],\n",
       "       [0.44002995, 0.5599701 ],\n",
       "       [0.44002995, 0.5599701 ],\n",
       "       [0.44002995, 0.5599701 ],\n",
       "       [0.44002995, 0.5599701 ],\n",
       "       [0.44002995, 0.5599701 ],\n",
       "       [0.44002995, 0.5599701 ],\n",
       "       [0.44002995, 0.5599701 ],\n",
       "       [0.44002995, 0.5599701 ],\n",
       "       [0.44002995, 0.5599701 ],\n",
       "       [0.44002995, 0.5599701 ],\n",
       "       [0.44002995, 0.5599701 ],\n",
       "       [0.44002995, 0.5599701 ],\n",
       "       [0.44002995, 0.5599701 ]], dtype=float32)>"
      ]
     },
     "execution_count": 30,
     "metadata": {},
     "output_type": "execute_result"
    }
   ],
   "source": [
    "vit(tf.zeros([32,121,121,3]))"
   ]
  },
  {
   "cell_type": "code",
   "execution_count": 31,
   "metadata": {
    "execution": {
     "iopub.execute_input": "2024-07-24T19:31:08.430767Z",
     "iopub.status.busy": "2024-07-24T19:31:08.430064Z",
     "iopub.status.idle": "2024-07-24T19:31:08.453058Z",
     "shell.execute_reply": "2024-07-24T19:31:08.452191Z",
     "shell.execute_reply.started": "2024-07-24T19:31:08.430729Z"
    }
   },
   "outputs": [
    {
     "data": {
      "text/html": [
       "<pre style=\"white-space:pre;overflow-x:auto;line-height:normal;font-family:Menlo,'DejaVu Sans Mono',consolas,'Courier New',monospace\"><span style=\"font-weight: bold\">Model: \"vision_transformer\"</span>\n",
       "</pre>\n"
      ],
      "text/plain": [
       "\u001b[1mModel: \"vision_transformer\"\u001b[0m\n"
      ]
     },
     "metadata": {},
     "output_type": "display_data"
    },
    {
     "data": {
      "text/html": [
       "<pre style=\"white-space:pre;overflow-x:auto;line-height:normal;font-family:Menlo,'DejaVu Sans Mono',consolas,'Courier New',monospace\">┏━━━━━━━━━━━━━━━━━━━━━━━━━━━━━━━━━┳━━━━━━━━━━━━━━━━━━━━━━━━┳━━━━━━━━━━━━━━━┓\n",
       "┃<span style=\"font-weight: bold\"> Layer (type)                    </span>┃<span style=\"font-weight: bold\"> Output Shape           </span>┃<span style=\"font-weight: bold\">       Param # </span>┃\n",
       "┡━━━━━━━━━━━━━━━━━━━━━━━━━━━━━━━━━╇━━━━━━━━━━━━━━━━━━━━━━━━╇━━━━━━━━━━━━━━━┩\n",
       "│ patch_encoder (<span style=\"color: #0087ff; text-decoration-color: #0087ff\">PatchEncoder</span>)    │ ?                      │       <span style=\"color: #00af00; text-decoration-color: #00af00\">176,055</span> │\n",
       "├─────────────────────────────────┼────────────────────────┼───────────────┤\n",
       "│ transformer_encoder             │ ?                      │     <span style=\"color: #00af00; text-decoration-color: #00af00\">2,378,739</span> │\n",
       "│ (<span style=\"color: #0087ff; text-decoration-color: #0087ff\">TransformerEncoder</span>)            │                        │               │\n",
       "├─────────────────────────────────┼────────────────────────┼───────────────┤\n",
       "│ transformer_encoder             │ ?                      │     <span style=\"color: #00af00; text-decoration-color: #00af00\">2,378,739</span> │\n",
       "│ (<span style=\"color: #0087ff; text-decoration-color: #0087ff\">TransformerEncoder</span>)            │                        │               │\n",
       "├─────────────────────────────────┼────────────────────────┼───────────────┤\n",
       "│ dense_5 (<span style=\"color: #0087ff; text-decoration-color: #0087ff\">Dense</span>)                 │ ?                      │     <span style=\"color: #00af00; text-decoration-color: #00af00\">5,622,272</span> │\n",
       "├─────────────────────────────────┼────────────────────────┼───────────────┤\n",
       "│ dense_6 (<span style=\"color: #0087ff; text-decoration-color: #0087ff\">Dense</span>)                 │ ?                      │        <span style=\"color: #00af00; text-decoration-color: #00af00\">16,512</span> │\n",
       "├─────────────────────────────────┼────────────────────────┼───────────────┤\n",
       "│ dense_7 (<span style=\"color: #0087ff; text-decoration-color: #0087ff\">Dense</span>)                 │ ?                      │           <span style=\"color: #00af00; text-decoration-color: #00af00\">258</span> │\n",
       "└─────────────────────────────────┴────────────────────────┴───────────────┘\n",
       "</pre>\n"
      ],
      "text/plain": [
       "┏━━━━━━━━━━━━━━━━━━━━━━━━━━━━━━━━━┳━━━━━━━━━━━━━━━━━━━━━━━━┳━━━━━━━━━━━━━━━┓\n",
       "┃\u001b[1m \u001b[0m\u001b[1mLayer (type)                   \u001b[0m\u001b[1m \u001b[0m┃\u001b[1m \u001b[0m\u001b[1mOutput Shape          \u001b[0m\u001b[1m \u001b[0m┃\u001b[1m \u001b[0m\u001b[1m      Param #\u001b[0m\u001b[1m \u001b[0m┃\n",
       "┡━━━━━━━━━━━━━━━━━━━━━━━━━━━━━━━━━╇━━━━━━━━━━━━━━━━━━━━━━━━╇━━━━━━━━━━━━━━━┩\n",
       "│ patch_encoder (\u001b[38;5;33mPatchEncoder\u001b[0m)    │ ?                      │       \u001b[38;5;34m176,055\u001b[0m │\n",
       "├─────────────────────────────────┼────────────────────────┼───────────────┤\n",
       "│ transformer_encoder             │ ?                      │     \u001b[38;5;34m2,378,739\u001b[0m │\n",
       "│ (\u001b[38;5;33mTransformerEncoder\u001b[0m)            │                        │               │\n",
       "├─────────────────────────────────┼────────────────────────┼───────────────┤\n",
       "│ transformer_encoder             │ ?                      │     \u001b[38;5;34m2,378,739\u001b[0m │\n",
       "│ (\u001b[38;5;33mTransformerEncoder\u001b[0m)            │                        │               │\n",
       "├─────────────────────────────────┼────────────────────────┼───────────────┤\n",
       "│ dense_5 (\u001b[38;5;33mDense\u001b[0m)                 │ ?                      │     \u001b[38;5;34m5,622,272\u001b[0m │\n",
       "├─────────────────────────────────┼────────────────────────┼───────────────┤\n",
       "│ dense_6 (\u001b[38;5;33mDense\u001b[0m)                 │ ?                      │        \u001b[38;5;34m16,512\u001b[0m │\n",
       "├─────────────────────────────────┼────────────────────────┼───────────────┤\n",
       "│ dense_7 (\u001b[38;5;33mDense\u001b[0m)                 │ ?                      │           \u001b[38;5;34m258\u001b[0m │\n",
       "└─────────────────────────────────┴────────────────────────┴───────────────┘\n"
      ]
     },
     "metadata": {},
     "output_type": "display_data"
    },
    {
     "data": {
      "text/html": [
       "<pre style=\"white-space:pre;overflow-x:auto;line-height:normal;font-family:Menlo,'DejaVu Sans Mono',consolas,'Courier New',monospace\"><span style=\"font-weight: bold\"> Total params: </span><span style=\"color: #00af00; text-decoration-color: #00af00\">10,572,575</span> (40.33 MB)\n",
       "</pre>\n"
      ],
      "text/plain": [
       "\u001b[1m Total params: \u001b[0m\u001b[38;5;34m10,572,575\u001b[0m (40.33 MB)\n"
      ]
     },
     "metadata": {},
     "output_type": "display_data"
    },
    {
     "data": {
      "text/html": [
       "<pre style=\"white-space:pre;overflow-x:auto;line-height:normal;font-family:Menlo,'DejaVu Sans Mono',consolas,'Courier New',monospace\"><span style=\"font-weight: bold\"> Trainable params: </span><span style=\"color: #00af00; text-decoration-color: #00af00\">10,572,575</span> (40.33 MB)\n",
       "</pre>\n"
      ],
      "text/plain": [
       "\u001b[1m Trainable params: \u001b[0m\u001b[38;5;34m10,572,575\u001b[0m (40.33 MB)\n"
      ]
     },
     "metadata": {},
     "output_type": "display_data"
    },
    {
     "data": {
      "text/html": [
       "<pre style=\"white-space:pre;overflow-x:auto;line-height:normal;font-family:Menlo,'DejaVu Sans Mono',consolas,'Courier New',monospace\"><span style=\"font-weight: bold\"> Non-trainable params: </span><span style=\"color: #00af00; text-decoration-color: #00af00\">0</span> (0.00 B)\n",
       "</pre>\n"
      ],
      "text/plain": [
       "\u001b[1m Non-trainable params: \u001b[0m\u001b[38;5;34m0\u001b[0m (0.00 B)\n"
      ]
     },
     "metadata": {},
     "output_type": "display_data"
    }
   ],
   "source": [
    "vit.summary()"
   ]
  },
  {
   "cell_type": "code",
   "execution_count": 32,
   "metadata": {
    "execution": {
     "iopub.execute_input": "2024-07-24T19:31:08.454456Z",
     "iopub.status.busy": "2024-07-24T19:31:08.454106Z",
     "iopub.status.idle": "2024-07-24T19:31:08.469414Z",
     "shell.execute_reply": "2024-07-24T19:31:08.468702Z",
     "shell.execute_reply.started": "2024-07-24T19:31:08.454431Z"
    }
   },
   "outputs": [],
   "source": [
    "from tensorflow.keras.optimizers import Adam\n",
    "from tensorflow.keras.losses import BinaryCrossentropy,CategoricalCrossentropy, SparseCategoricalCrossentropy\n",
    "from tensorflow.keras.metrics import Accuracy,TopKCategoricalAccuracy, CategoricalAccuracy, SparseCategoricalAccuracy\n",
    "\n",
    "\n",
    "loss_function = CategoricalCrossentropy()\n",
    "\n",
    "metrics = [CategoricalAccuracy(name = \"accuracy\"), TopKCategoricalAccuracy(k=2, name = \"top_k_accuracy\")]"
   ]
  },
  {
   "cell_type": "code",
   "execution_count": 33,
   "metadata": {
    "execution": {
     "iopub.execute_input": "2024-07-24T19:31:08.470665Z",
     "iopub.status.busy": "2024-07-24T19:31:08.470393Z",
     "iopub.status.idle": "2024-07-24T19:31:08.484972Z",
     "shell.execute_reply": "2024-07-24T19:31:08.484067Z",
     "shell.execute_reply.started": "2024-07-24T19:31:08.470642Z"
    }
   },
   "outputs": [],
   "source": [
    "vit.compile(optimizer = Adam(learning_rate = CONFIGURATION[\"LEARNING_RATE\"] ),\n",
    "           loss = loss_function,\n",
    "           metrics = metrics)"
   ]
  },
  {
   "cell_type": "code",
   "execution_count": 34,
   "metadata": {
    "execution": {
     "iopub.execute_input": "2024-07-24T19:31:08.486600Z",
     "iopub.status.busy": "2024-07-24T19:31:08.486253Z",
     "iopub.status.idle": "2024-07-24T19:31:23.216641Z",
     "shell.execute_reply": "2024-07-24T19:31:23.215855Z",
     "shell.execute_reply.started": "2024-07-24T19:31:08.486569Z"
    }
   },
   "outputs": [
    {
     "name": "stdout",
     "output_type": "stream",
     "text": [
      "Found 194698 files belonging to 2 classes.\n",
      "Found 64900 files belonging to 2 classes.\n"
     ]
    }
   ],
   "source": [
    "train_directory = \"/kaggle/working/test_train_dataset/train\"\n",
    "\n",
    "val_directory = \"/kaggle/working/test_train_dataset/val\"\n",
    "\n",
    "\n",
    "train_dataset = tf.keras.utils.image_dataset_from_directory(\n",
    "    train_directory,\n",
    "    labels='inferred',\n",
    "    label_mode='categorical',\n",
    "    class_names=CONFIGURATION[\"CLASS_NAMES\"],\n",
    "    color_mode='rgb',\n",
    "    batch_size=CONFIGURATION[\"BATCH_SIZE\"],\n",
    "    image_size=(CONFIGURATION[\"IM_SIZE\"], CONFIGURATION[\"IM_SIZE\"]),\n",
    "    shuffle=True,\n",
    "    seed=99,\n",
    ")\n",
    "\n",
    "val_dataset = tf.keras.utils.image_dataset_from_directory(\n",
    "    val_directory,\n",
    "    labels='inferred',\n",
    "    label_mode='categorical',\n",
    "    class_names=CONFIGURATION[\"CLASS_NAMES\"],\n",
    "    color_mode='rgb',\n",
    "    batch_size=1,#CONFIGURATION[\"BATCH_SIZE\"],\n",
    "    image_size=(CONFIGURATION[\"IM_SIZE\"], CONFIGURATION[\"IM_SIZE\"]),\n",
    "    shuffle=True,\n",
    "    seed=99,\n",
    ")"
   ]
  },
  {
   "cell_type": "code",
   "execution_count": 35,
   "metadata": {
    "execution": {
     "iopub.execute_input": "2024-07-24T19:31:23.219644Z",
     "iopub.status.busy": "2024-07-24T19:31:23.219351Z",
     "iopub.status.idle": "2024-07-24T19:31:23.233780Z",
     "shell.execute_reply": "2024-07-24T19:31:23.232855Z",
     "shell.execute_reply.started": "2024-07-24T19:31:23.219619Z"
    }
   },
   "outputs": [],
   "source": [
    "augment_layers = tf.keras.Sequential([\n",
    "  RandomRotation(factor = (-0.025, 0.025)),\n",
    "  RandomFlip(mode='horizontal',),\n",
    "  RandomContrast(factor=0.1),\n",
    "])\n",
    "def augment_layer(image, label):\n",
    "  return augment_layers(image, training = True), label"
   ]
  },
  {
   "cell_type": "code",
   "execution_count": 36,
   "metadata": {
    "execution": {
     "iopub.execute_input": "2024-07-24T19:31:23.235243Z",
     "iopub.status.busy": "2024-07-24T19:31:23.234899Z",
     "iopub.status.idle": "2024-07-24T19:31:23.403760Z",
     "shell.execute_reply": "2024-07-24T19:31:23.403038Z",
     "shell.execute_reply.started": "2024-07-24T19:31:23.235212Z"
    }
   },
   "outputs": [],
   "source": [
    "training_dataset = (\n",
    "    train_dataset\n",
    "    .map(augment_layer, num_parallel_calls = tf.data.AUTOTUNE)\n",
    "    .prefetch(tf.data.AUTOTUNE)\n",
    ")\n",
    "validation_dataset = (\n",
    "    val_dataset\n",
    "    .prefetch(tf.data.AUTOTUNE)\n",
    ")"
   ]
  },
  {
   "cell_type": "code",
   "execution_count": 37,
   "metadata": {
    "execution": {
     "iopub.execute_input": "2024-07-24T19:31:23.405010Z",
     "iopub.status.busy": "2024-07-24T19:31:23.404743Z",
     "iopub.status.idle": "2024-07-24T19:31:23.410637Z",
     "shell.execute_reply": "2024-07-24T19:31:23.409789Z",
     "shell.execute_reply.started": "2024-07-24T19:31:23.404987Z"
    }
   },
   "outputs": [
    {
     "data": {
      "text/plain": [
       "<_PrefetchDataset element_spec=(TensorSpec(shape=(None, 121, 121, 3), dtype=tf.float32, name=None), TensorSpec(shape=(None, 2), dtype=tf.float32, name=None))>"
      ]
     },
     "execution_count": 37,
     "metadata": {},
     "output_type": "execute_result"
    }
   ],
   "source": [
    "training_dataset"
   ]
  },
  {
   "cell_type": "code",
   "execution_count": 38,
   "metadata": {
    "execution": {
     "iopub.execute_input": "2024-07-24T19:31:23.412008Z",
     "iopub.status.busy": "2024-07-24T19:31:23.411743Z",
     "iopub.status.idle": "2024-07-24T21:38:04.768309Z",
     "shell.execute_reply": "2024-07-24T21:38:04.767396Z",
     "shell.execute_reply.started": "2024-07-24T19:31:23.411986Z"
    }
   },
   "outputs": [
    {
     "name": "stdout",
     "output_type": "stream",
     "text": [
      "Epoch 1/20\n",
      "\u001b[1m   3/6085\u001b[0m \u001b[37m━━━━━━━━━━━━━━━━━━━━\u001b[0m \u001b[1m4:04\u001b[0m 40ms/step - accuracy: 0.3889 - loss: 175.1378 - top_k_accuracy: 1.0000       "
     ]
    },
    {
     "name": "stderr",
     "output_type": "stream",
     "text": [
      "WARNING: All log messages before absl::InitializeLog() is called are written to STDERR\n",
      "I0000 00:00:1721849495.360642      83 device_compiler.h:186] Compiled cluster using XLA!  This line is logged at most once for the lifetime of the process.\n",
      "W0000 00:00:1721849495.384390      83 graph_launch.cc:671] Fallback to op-by-op mode because memset node breaks graph update\n"
     ]
    },
    {
     "name": "stdout",
     "output_type": "stream",
     "text": [
      "\u001b[1m6085/6085\u001b[0m \u001b[32m━━━━━━━━━━━━━━━━━━━━\u001b[0m\u001b[37m\u001b[0m \u001b[1m0s\u001b[0m 38ms/step - accuracy: 0.9939 - loss: 213.1212 - top_k_accuracy: 1.0000"
     ]
    },
    {
     "name": "stderr",
     "output_type": "stream",
     "text": [
      "W0000 00:00:1721849726.410665      82 graph_launch.cc:671] Fallback to op-by-op mode because memset node breaks graph update\n"
     ]
    },
    {
     "name": "stdout",
     "output_type": "stream",
     "text": [
      "\u001b[1m6085/6085\u001b[0m \u001b[32m━━━━━━━━━━━━━━━━━━━━\u001b[0m\u001b[37m\u001b[0m \u001b[1m399s\u001b[0m 64ms/step - accuracy: 0.9939 - loss: 213.1112 - top_k_accuracy: 1.0000 - val_accuracy: 0.9993 - val_loss: 829.7639 - val_top_k_accuracy: 1.0000\n",
      "Epoch 2/20\n",
      "\u001b[1m6085/6085\u001b[0m \u001b[32m━━━━━━━━━━━━━━━━━━━━\u001b[0m\u001b[37m\u001b[0m \u001b[1m378s\u001b[0m 62ms/step - accuracy: 0.9979 - loss: 124.7138 - top_k_accuracy: 1.0000 - val_accuracy: 0.9993 - val_loss: 0.0057 - val_top_k_accuracy: 1.0000\n",
      "Epoch 3/20\n",
      "\u001b[1m6085/6085\u001b[0m \u001b[32m━━━━━━━━━━━━━━━━━━━━\u001b[0m\u001b[37m\u001b[0m \u001b[1m378s\u001b[0m 62ms/step - accuracy: 0.9993 - loss: 0.0059 - top_k_accuracy: 1.0000 - val_accuracy: 0.9993 - val_loss: 0.0057 - val_top_k_accuracy: 1.0000\n",
      "Epoch 4/20\n",
      "\u001b[1m6085/6085\u001b[0m \u001b[32m━━━━━━━━━━━━━━━━━━━━\u001b[0m\u001b[37m\u001b[0m \u001b[1m379s\u001b[0m 62ms/step - accuracy: 0.9993 - loss: 0.0059 - top_k_accuracy: 1.0000 - val_accuracy: 0.9993 - val_loss: 0.0057 - val_top_k_accuracy: 1.0000\n",
      "Epoch 5/20\n",
      "\u001b[1m6085/6085\u001b[0m \u001b[32m━━━━━━━━━━━━━━━━━━━━\u001b[0m\u001b[37m\u001b[0m \u001b[1m380s\u001b[0m 62ms/step - accuracy: 0.9978 - loss: 151.8701 - top_k_accuracy: 1.0000 - val_accuracy: 0.9993 - val_loss: 676.6000 - val_top_k_accuracy: 1.0000\n",
      "Epoch 6/20\n",
      "\u001b[1m6085/6085\u001b[0m \u001b[32m━━━━━━━━━━━━━━━━━━━━\u001b[0m\u001b[37m\u001b[0m \u001b[1m381s\u001b[0m 62ms/step - accuracy: 0.9992 - loss: 70.7453 - top_k_accuracy: 1.0000 - val_accuracy: 0.9993 - val_loss: 0.0058 - val_top_k_accuracy: 1.0000\n",
      "Epoch 7/20\n",
      "\u001b[1m6085/6085\u001b[0m \u001b[32m━━━━━━━━━━━━━━━━━━━━\u001b[0m\u001b[37m\u001b[0m \u001b[1m379s\u001b[0m 62ms/step - accuracy: 0.9992 - loss: 7.0336 - top_k_accuracy: 1.0000 - val_accuracy: 0.9993 - val_loss: 0.0057 - val_top_k_accuracy: 1.0000\n",
      "Epoch 8/20\n",
      "\u001b[1m6085/6085\u001b[0m \u001b[32m━━━━━━━━━━━━━━━━━━━━\u001b[0m\u001b[37m\u001b[0m \u001b[1m379s\u001b[0m 62ms/step - accuracy: 0.9993 - loss: 0.7971 - top_k_accuracy: 1.0000 - val_accuracy: 0.9993 - val_loss: 0.0057 - val_top_k_accuracy: 1.0000\n",
      "Epoch 9/20\n",
      "\u001b[1m6085/6085\u001b[0m \u001b[32m━━━━━━━━━━━━━━━━━━━━\u001b[0m\u001b[37m\u001b[0m \u001b[1m378s\u001b[0m 62ms/step - accuracy: 0.9993 - loss: 0.0583 - top_k_accuracy: 1.0000 - val_accuracy: 0.9993 - val_loss: 0.0931 - val_top_k_accuracy: 1.0000\n",
      "Epoch 10/20\n",
      "\u001b[1m6085/6085\u001b[0m \u001b[32m━━━━━━━━━━━━━━━━━━━━\u001b[0m\u001b[37m\u001b[0m \u001b[1m378s\u001b[0m 62ms/step - accuracy: 0.9989 - loss: 55.0363 - top_k_accuracy: 1.0000 - val_accuracy: 0.9993 - val_loss: 0.0059 - val_top_k_accuracy: 1.0000\n",
      "Epoch 11/20\n",
      "\u001b[1m6085/6085\u001b[0m \u001b[32m━━━━━━━━━━━━━━━━━━━━\u001b[0m\u001b[37m\u001b[0m \u001b[1m378s\u001b[0m 62ms/step - accuracy: 0.9990 - loss: 42.3322 - top_k_accuracy: 1.0000 - val_accuracy: 0.9993 - val_loss: 0.0058 - val_top_k_accuracy: 1.0000\n",
      "Epoch 12/20\n",
      "\u001b[1m6085/6085\u001b[0m \u001b[32m━━━━━━━━━━━━━━━━━━━━\u001b[0m\u001b[37m\u001b[0m \u001b[1m378s\u001b[0m 62ms/step - accuracy: 0.9991 - loss: 22.9404 - top_k_accuracy: 1.0000 - val_accuracy: 0.9993 - val_loss: 0.0059 - val_top_k_accuracy: 1.0000\n",
      "Epoch 13/20\n",
      "\u001b[1m6085/6085\u001b[0m \u001b[32m━━━━━━━━━━━━━━━━━━━━\u001b[0m\u001b[37m\u001b[0m \u001b[1m378s\u001b[0m 62ms/step - accuracy: 0.9993 - loss: 0.0162 - top_k_accuracy: 1.0000 - val_accuracy: 0.9993 - val_loss: 4.4947 - val_top_k_accuracy: 1.0000\n",
      "Epoch 14/20\n",
      "\u001b[1m6085/6085\u001b[0m \u001b[32m━━━━━━━━━━━━━━━━━━━━\u001b[0m\u001b[37m\u001b[0m \u001b[1m381s\u001b[0m 62ms/step - accuracy: 0.9993 - loss: 2.8460 - top_k_accuracy: 1.0000 - val_accuracy: 0.9993 - val_loss: 0.0059 - val_top_k_accuracy: 1.0000\n",
      "Epoch 15/20\n",
      "\u001b[1m6085/6085\u001b[0m \u001b[32m━━━━━━━━━━━━━━━━━━━━\u001b[0m\u001b[37m\u001b[0m \u001b[1m381s\u001b[0m 62ms/step - accuracy: 0.9991 - loss: 140.5749 - top_k_accuracy: 1.0000 - val_accuracy: 0.9993 - val_loss: 0.0064 - val_top_k_accuracy: 1.0000\n",
      "Epoch 16/20\n",
      "\u001b[1m6085/6085\u001b[0m \u001b[32m━━━━━━━━━━━━━━━━━━━━\u001b[0m\u001b[37m\u001b[0m \u001b[1m378s\u001b[0m 62ms/step - accuracy: 0.9993 - loss: 19.3462 - top_k_accuracy: 1.0000 - val_accuracy: 0.9993 - val_loss: 0.0063 - val_top_k_accuracy: 1.0000\n",
      "Epoch 17/20\n",
      "\u001b[1m6085/6085\u001b[0m \u001b[32m━━━━━━━━━━━━━━━━━━━━\u001b[0m\u001b[37m\u001b[0m \u001b[1m377s\u001b[0m 62ms/step - accuracy: 0.9992 - loss: 2.1272 - top_k_accuracy: 1.0000 - val_accuracy: 0.9993 - val_loss: 0.0061 - val_top_k_accuracy: 1.0000\n",
      "Epoch 18/20\n",
      "\u001b[1m6085/6085\u001b[0m \u001b[32m━━━━━━━━━━━━━━━━━━━━\u001b[0m\u001b[37m\u001b[0m \u001b[1m377s\u001b[0m 62ms/step - accuracy: 0.9989 - loss: 54.8682 - top_k_accuracy: 1.0000 - val_accuracy: 0.9993 - val_loss: 5.5559 - val_top_k_accuracy: 1.0000\n",
      "Epoch 19/20\n",
      "\u001b[1m6085/6085\u001b[0m \u001b[32m━━━━━━━━━━━━━━━━━━━━\u001b[0m\u001b[37m\u001b[0m \u001b[1m382s\u001b[0m 62ms/step - accuracy: 0.9993 - loss: 3.3054 - top_k_accuracy: 1.0000 - val_accuracy: 0.9993 - val_loss: 0.0072 - val_top_k_accuracy: 1.0000\n",
      "Epoch 20/20\n",
      "\u001b[1m6085/6085\u001b[0m \u001b[32m━━━━━━━━━━━━━━━━━━━━\u001b[0m\u001b[37m\u001b[0m \u001b[1m377s\u001b[0m 62ms/step - accuracy: 0.9993 - loss: 0.1012 - top_k_accuracy: 1.0000 - val_accuracy: 0.9993 - val_loss: 0.0151 - val_top_k_accuracy: 1.0000\n"
     ]
    }
   ],
   "source": [
    "history = vit.fit(\n",
    "    training_dataset,\n",
    "    validation_data = validation_dataset,\n",
    "    epochs = CONFIGURATION[\"N_EPOCHS\"],\n",
    "verbose = 1)"
   ]
  },
  {
   "cell_type": "code",
   "execution_count": 39,
   "metadata": {
    "execution": {
     "iopub.execute_input": "2024-07-24T21:39:32.125989Z",
     "iopub.status.busy": "2024-07-24T21:39:32.125283Z",
     "iopub.status.idle": "2024-07-24T21:39:32.635248Z",
     "shell.execute_reply": "2024-07-24T21:39:32.634302Z",
     "shell.execute_reply.started": "2024-07-24T21:39:32.125958Z"
    }
   },
   "outputs": [
    {
     "data": {
      "image/png": "[encoded data removed]",
      "text/plain": [
       "<Figure size 1200x500 with 2 Axes>"
      ]
     },
     "metadata": {},
     "output_type": "display_data"
    }
   ],
   "source": [
    "import matplotlib.pyplot as plt\n",
    "\n",
    "# Assuming `history` is the variable containing the training history from model.fit()\n",
    "# history = model.fit(...)\n",
    "\n",
    "# Plot accuracy vs val_accuracy\n",
    "plt.figure(figsize=(12, 5))\n",
    "\n",
    "plt.subplot(1, 2, 1)\n",
    "plt.plot(history.history['accuracy'], label='Training Accuracy')\n",
    "plt.plot(history.history['val_accuracy'], label='Validation Accuracy')\n",
    "plt.xlabel('Epoch')\n",
    "plt.ylabel('Accuracy')\n",
    "plt.title('Accuracy vs. Validation Accuracy')\n",
    "plt.legend()\n",
    "\n",
    "# Plot loss vs val_loss\n",
    "plt.subplot(1, 2, 2)\n",
    "plt.plot(history.history['loss'], label='Training Loss')\n",
    "plt.plot(history.history['val_loss'], label='Validation Loss')\n",
    "plt.xlabel('Epoch')\n",
    "plt.ylabel('Loss')\n",
    "plt.title('Loss vs. Validation Loss')\n",
    "plt.legend()\n",
    "\n",
    "plt.show()\n"
   ]
  },
  {
   "cell_type": "code",
   "execution_count": 41,
   "metadata": {
    "execution": {
     "iopub.execute_input": "2024-07-24T21:46:24.840040Z",
     "iopub.status.busy": "2024-07-24T21:46:24.839118Z",
     "iopub.status.idle": "2024-07-24T21:46:25.338492Z",
     "shell.execute_reply": "2024-07-24T21:46:25.337701Z",
     "shell.execute_reply.started": "2024-07-24T21:46:24.840006Z"
    }
   },
   "outputs": [],
   "source": [
    "\n",
    "model_dir = \"/kaggle/working/models\"\n",
    "os.makedirs(model_dir , exist_ok = True)\n",
    "path_to_my_model = \"/kaggle/working/models/vit_isic.keras\"\n",
    "vit.save(path_to_my_model)\n"
   ]
  },
  {
   "cell_type": "code",
   "execution_count": 46,
   "metadata": {
    "execution": {
     "iopub.execute_input": "2024-07-24T21:49:20.306376Z",
     "iopub.status.busy": "2024-07-24T21:49:20.305576Z",
     "iopub.status.idle": "2024-07-24T21:49:20.310172Z",
     "shell.execute_reply": "2024-07-24T21:49:20.309209Z",
     "shell.execute_reply.started": "2024-07-24T21:49:20.306342Z"
    }
   },
   "outputs": [],
   "source": [
    "path_to_my_model = \"/kaggle/working/models/vit_isic.keras\"\n",
    "\n"
   ]
  },
  {
   "cell_type": "code",
   "execution_count": null,
   "metadata": {},
   "outputs": [],
   "source": []
  },
  {
   "cell_type": "code",
   "execution_count": 53,
   "metadata": {
    "execution": {
     "iopub.execute_input": "2024-07-24T21:52:58.911389Z",
     "iopub.status.busy": "2024-07-24T21:52:58.911039Z",
     "iopub.status.idle": "2024-07-24T21:52:59.208801Z",
     "shell.execute_reply": "2024-07-24T21:52:59.208007Z",
     "shell.execute_reply.started": "2024-07-24T21:52:58.911364Z"
    }
   },
   "outputs": [],
   "source": [
    "# Save only the weights of the model\n",
    "vit.save_weights(\"/kaggle/working/models/vit_isic.weights.h5\")\n"
   ]
  },
  {
   "cell_type": "code",
   "execution_count": null,
   "metadata": {},
   "outputs": [],
   "source": []
  },
  {
   "cell_type": "code",
   "execution_count": 54,
   "metadata": {
    "execution": {
     "iopub.execute_input": "2024-07-24T22:02:37.565163Z",
     "iopub.status.busy": "2024-07-24T22:02:37.564775Z",
     "iopub.status.idle": "2024-07-24T22:02:37.580317Z",
     "shell.execute_reply": "2024-07-24T22:02:37.579586Z",
     "shell.execute_reply.started": "2024-07-24T22:02:37.565122Z"
    }
   },
   "outputs": [],
   "source": [
    "test_images_df = pd.read_csv('/kaggle/input/isic-2024-challenge/test-metadata.csv')\n",
    "test_image_ids = test_images_df['isic_id']\n"
   ]
  },
  {
   "cell_type": "code",
   "execution_count": 56,
   "metadata": {
    "execution": {
     "iopub.execute_input": "2024-07-24T22:03:32.093385Z",
     "iopub.status.busy": "2024-07-24T22:03:32.092556Z",
     "iopub.status.idle": "2024-07-24T22:03:32.100630Z",
     "shell.execute_reply": "2024-07-24T22:03:32.099503Z",
     "shell.execute_reply.started": "2024-07-24T22:03:32.093346Z"
    }
   },
   "outputs": [
    {
     "data": {
      "text/plain": [
       "<bound method NDFrame.head of 0    ISIC_0015657\n",
       "1    ISIC_0015729\n",
       "2    ISIC_0015740\n",
       "Name: isic_id, dtype: object>"
      ]
     },
     "execution_count": 56,
     "metadata": {},
     "output_type": "execute_result"
    }
   ],
   "source": [
    "test_image_ids.head"
   ]
  },
  {
   "cell_type": "code",
   "execution_count": 78,
   "metadata": {
    "execution": {
     "iopub.execute_input": "2024-07-24T22:17:06.627946Z",
     "iopub.status.busy": "2024-07-24T22:17:06.627115Z",
     "iopub.status.idle": "2024-07-24T22:17:06.632935Z",
     "shell.execute_reply": "2024-07-24T22:17:06.631790Z",
     "shell.execute_reply.started": "2024-07-24T22:17:06.627915Z"
    }
   },
   "outputs": [
    {
     "name": "stderr",
     "output_type": "stream",
     "text": [
      "[ WARN:0@253.652] global loadsave.cpp:241 findDecoder imread_('/kaggle/input/isic-2024-challenge/train-image/image/ISIC_0015729.jpg'): can't open/read file: check file path/integrity\n"
     ]
    }
   ],
   "source": [
    "image_path = os.path.join(\"/kaggle/input/isic-2024-challenge/train-image/image\",\"ISIC_0015729.jpg\")\n",
    "img = cv2.imread(image_path)"
   ]
  },
  {
   "cell_type": "code",
   "execution_count": null,
   "metadata": {},
   "outputs": [],
   "source": []
  },
  {
   "cell_type": "code",
   "execution_count": null,
   "metadata": {},
   "outputs": [],
   "source": []
  },
  {
   "cell_type": "code",
   "execution_count": null,
   "metadata": {},
   "outputs": [],
   "source": []
  },
  {
   "cell_type": "code",
   "execution_count": null,
   "metadata": {},
   "outputs": [],
   "source": []
  },
  {
   "cell_type": "code",
   "execution_count": null,
   "metadata": {},
   "outputs": [],
   "source": []
  },
  {
   "cell_type": "code",
   "execution_count": null,
   "metadata": {},
   "outputs": [],
   "source": []
  },
  {
   "cell_type": "code",
   "execution_count": null,
   "metadata": {},
   "outputs": [],
   "source": []
  },
  {
   "cell_type": "code",
   "execution_count": null,
   "metadata": {},
   "outputs": [],
   "source": []
  },
  {
   "cell_type": "code",
   "execution_count": 79,
   "metadata": {
    "execution": {
     "iopub.execute_input": "2024-07-24T22:18:55.768891Z",
     "iopub.status.busy": "2024-07-24T22:18:55.767978Z",
     "iopub.status.idle": "2024-07-24T22:18:55.772612Z",
     "shell.execute_reply": "2024-07-24T22:18:55.771508Z",
     "shell.execute_reply.started": "2024-07-24T22:18:55.768855Z"
    }
   },
   "outputs": [],
   "source": []
  },
  {
   "cell_type": "code",
   "execution_count": 81,
   "metadata": {
    "execution": {
     "iopub.execute_input": "2024-07-24T22:23:03.977999Z",
     "iopub.status.busy": "2024-07-24T22:23:03.977387Z",
     "iopub.status.idle": "2024-07-24T22:25:52.780899Z",
     "shell.execute_reply": "2024-07-24T22:25:52.779848Z",
     "shell.execute_reply.started": "2024-07-24T22:23:03.977971Z"
    }
   },
   "outputs": [],
   "source": [
    "import os\n",
    "import cv2\n",
    "import numpy as np\n",
    "import pandas as pd\n",
    "from sklearn.model_selection import train_test_split\n",
    "from tensorflow.keras.models import load_model\n",
    "\n",
    "def load_and_preprocess_image(image_path, target_size):\n",
    "    if not os.path.exists(image_path):\n",
    "        print(f\"[ERROR] File does not exist: {image_path}\")\n",
    "        return None\n",
    "    if not os.access(image_path, os.R_OK):\n",
    "        print(f\"[ERROR] File is not readable: {image_path}\")\n",
    "        return None\n",
    "    try:\n",
    "        image = cv2.imread(image_path)\n",
    "        if image is None:\n",
    "            print(f\"[ERROR] Failed to read image (None returned): {image_path}\")\n",
    "            return None\n",
    "        image = cv2.resize(image, target_size)\n",
    "        return image\n",
    "    except Exception as e:\n",
    "        print(f\"[ERROR] Failed to process image {image_path}: {e}\")\n",
    "        return None\n",
    "\n",
    "image_dir = '/kaggle/input/isic-2024-challenge/train-image/image'\n",
    "\n",
    "all_image_files = [os.path.join(image_dir, file) for file in os.listdir(image_dir) if file.endswith(('.jpg', '.jpeg', '.png'))]\n",
    "\n",
    "image_ids = [os.path.splitext(os.path.basename(file))[0] for file in all_image_files]\n",
    "data_df = pd.DataFrame({'isic_id': image_ids, 'image_path': all_image_files})\n",
    "\n",
    "train_df, test_df = train_test_split(data_df, test_size=0.2, random_state=42)\n",
    "\n",
    "test_df.to_csv('test_images.csv', index=False)\n",
    "\n",
    "test_images_df = pd.read_csv('test_images.csv')\n",
    "test_image_ids = test_images_df['isic_id']\n",
    "image_paths = test_images_df['image_path']\n",
    "\n",
    "\n",
    "target_size = (CONFIGURATION[\"IM_SIZE\"], CONFIGURATION[\"IM_SIZE\"])  \n",
    "\n",
    "test_images = []\n",
    "valid_image_ids = []\n",
    "for image_path, image_id in zip(image_paths, test_image_ids):\n",
    "    image = load_and_preprocess_image(image_path, target_size)\n",
    "    if image is not None:\n",
    "        test_images.append(image)\n",
    "        valid_image_ids.append(image_id)\n",
    "\n"
   ]
  },
  {
   "cell_type": "code",
   "execution_count": 82,
   "metadata": {
    "execution": {
     "iopub.execute_input": "2024-07-24T22:26:19.823256Z",
     "iopub.status.busy": "2024-07-24T22:26:19.822277Z",
     "iopub.status.idle": "2024-07-24T22:26:56.063383Z",
     "shell.execute_reply": "2024-07-24T22:26:56.062451Z",
     "shell.execute_reply.started": "2024-07-24T22:26:19.823223Z"
    }
   },
   "outputs": [
    {
     "name": "stdout",
     "output_type": "stream",
     "text": [
      "\u001b[1m  18/2507\u001b[0m \u001b[37m━━━━━━━━━━━━━━━━━━━━\u001b[0m \u001b[1m23s\u001b[0m 10ms/step"
     ]
    },
    {
     "name": "stderr",
     "output_type": "stream",
     "text": [
      "W0000 00:00:1721859990.171650      84 graph_launch.cc:671] Fallback to op-by-op mode because memset node breaks graph update\n"
     ]
    },
    {
     "name": "stdout",
     "output_type": "stream",
     "text": [
      "\u001b[1m2507/2507\u001b[0m \u001b[32m━━━━━━━━━━━━━━━━━━━━\u001b[0m\u001b[37m\u001b[0m \u001b[1m25s\u001b[0m 10ms/step\n"
     ]
    },
    {
     "name": "stderr",
     "output_type": "stream",
     "text": [
      "W0000 00:00:1721860014.294483      84 graph_launch.cc:671] Fallback to op-by-op mode because memset node breaks graph update\n"
     ]
    },
    {
     "name": "stdout",
     "output_type": "stream",
     "text": [
      "Submission file saved successfully.\n"
     ]
    }
   ],
   "source": [
    "if test_images:\n",
    "    test_images = np.array(test_images)\n",
    "\n",
    "    # Predict probabilities\n",
    "    predictions = vit.predict(test_images)\n",
    "    predicted_probabilities = predictions[:, 1]  # Assuming the second column is the probability of being malignant\n",
    "\n",
    "    # Create a DataFrame with the predictions\n",
    "    submission_df = pd.DataFrame({\n",
    "        'isic_id': valid_image_ids,\n",
    "        'target': predicted_probabilities\n",
    "    })\n",
    "\n",
    "    # Save the predictions to a CSV file\n",
    "    submission_df.to_csv('submission.csv', index=False)\n",
    "\n",
    "    print('Submission file saved successfully.')\n",
    "else:\n",
    "    print('No valid images to process.')\n"
   ]
  },
  {
   "cell_type": "code",
   "execution_count": null,
   "metadata": {},
   "outputs": [],
   "source": []
  }
 ],
 "metadata": {
  "kaggle": {
   "accelerator": "gpu",
   "dataSources": [
    {
     "databundleVersionId": 9094797,
     "sourceId": 63056,
     "sourceType": "competition"
    },
    {
     "datasetId": 5332292,
     "sourceId": 8857530,
     "sourceType": "datasetVersion"
    }
   ],
   "dockerImageVersionId": 30732,
   "isGpuEnabled": true,
   "isInternetEnabled": true,
   "language": "python",
   "sourceType": "notebook"
  },
  "kernelspec": {
   "display_name": "Python 3 (ipykernel)",
   "language": "python",
   "name": "python3"
  },
  "language_info": {
   "codemirror_mode": {
    "name": "ipython",
    "version": 3
   },
   "file_extension": ".py",
   "mimetype": "text/x-python",
   "name": "python",
   "nbconvert_exporter": "python",
   "pygments_lexer": "ipython3",
   "version": "3.11.9"
  }
 },
 "nbformat": 4,
 "nbformat_minor": 4
}
